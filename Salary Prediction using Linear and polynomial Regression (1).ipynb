{
 "cells": [
  {
   "cell_type": "markdown",
   "id": "b8721d77",
   "metadata": {},
   "source": [
    "# Salary prediction using simple linear regression and polynomial regression"
   ]
  },
  {
   "cell_type": "code",
   "execution_count": 1,
   "id": "3774e079",
   "metadata": {},
   "outputs": [],
   "source": [
    "import pandas as pd \n",
    "import numpy as np\n",
    "import matplotlib.pyplot as plt\n"
   ]
  },
  {
   "cell_type": "code",
   "execution_count": 2,
   "id": "9e179d1e",
   "metadata": {},
   "outputs": [],
   "source": [
    "ds=pd.read_csv('Salary.csv')"
   ]
  },
  {
   "cell_type": "code",
   "execution_count": 3,
   "id": "40852ae2",
   "metadata": {},
   "outputs": [
    {
     "data": {
      "text/html": [
       "<div>\n",
       "<style scoped>\n",
       "    .dataframe tbody tr th:only-of-type {\n",
       "        vertical-align: middle;\n",
       "    }\n",
       "\n",
       "    .dataframe tbody tr th {\n",
       "        vertical-align: top;\n",
       "    }\n",
       "\n",
       "    .dataframe thead th {\n",
       "        text-align: right;\n",
       "    }\n",
       "</style>\n",
       "<table border=\"1\" class=\"dataframe\">\n",
       "  <thead>\n",
       "    <tr style=\"text-align: right;\">\n",
       "      <th></th>\n",
       "      <th>YearsExperience</th>\n",
       "      <th>Salary</th>\n",
       "    </tr>\n",
       "  </thead>\n",
       "  <tbody>\n",
       "    <tr>\n",
       "      <th>0</th>\n",
       "      <td>1.1</td>\n",
       "      <td>39343</td>\n",
       "    </tr>\n",
       "    <tr>\n",
       "      <th>1</th>\n",
       "      <td>1.3</td>\n",
       "      <td>46205</td>\n",
       "    </tr>\n",
       "    <tr>\n",
       "      <th>2</th>\n",
       "      <td>1.5</td>\n",
       "      <td>37731</td>\n",
       "    </tr>\n",
       "    <tr>\n",
       "      <th>3</th>\n",
       "      <td>2.0</td>\n",
       "      <td>43525</td>\n",
       "    </tr>\n",
       "    <tr>\n",
       "      <th>4</th>\n",
       "      <td>2.2</td>\n",
       "      <td>39891</td>\n",
       "    </tr>\n",
       "    <tr>\n",
       "      <th>5</th>\n",
       "      <td>2.9</td>\n",
       "      <td>56642</td>\n",
       "    </tr>\n",
       "    <tr>\n",
       "      <th>6</th>\n",
       "      <td>3.0</td>\n",
       "      <td>60150</td>\n",
       "    </tr>\n",
       "    <tr>\n",
       "      <th>7</th>\n",
       "      <td>3.2</td>\n",
       "      <td>54445</td>\n",
       "    </tr>\n",
       "    <tr>\n",
       "      <th>8</th>\n",
       "      <td>3.2</td>\n",
       "      <td>64445</td>\n",
       "    </tr>\n",
       "    <tr>\n",
       "      <th>9</th>\n",
       "      <td>3.7</td>\n",
       "      <td>57189</td>\n",
       "    </tr>\n",
       "    <tr>\n",
       "      <th>10</th>\n",
       "      <td>3.9</td>\n",
       "      <td>63218</td>\n",
       "    </tr>\n",
       "    <tr>\n",
       "      <th>11</th>\n",
       "      <td>4.0</td>\n",
       "      <td>55794</td>\n",
       "    </tr>\n",
       "    <tr>\n",
       "      <th>12</th>\n",
       "      <td>4.0</td>\n",
       "      <td>56957</td>\n",
       "    </tr>\n",
       "    <tr>\n",
       "      <th>13</th>\n",
       "      <td>4.1</td>\n",
       "      <td>57081</td>\n",
       "    </tr>\n",
       "    <tr>\n",
       "      <th>14</th>\n",
       "      <td>4.5</td>\n",
       "      <td>61111</td>\n",
       "    </tr>\n",
       "    <tr>\n",
       "      <th>15</th>\n",
       "      <td>4.9</td>\n",
       "      <td>67938</td>\n",
       "    </tr>\n",
       "    <tr>\n",
       "      <th>16</th>\n",
       "      <td>5.1</td>\n",
       "      <td>66029</td>\n",
       "    </tr>\n",
       "    <tr>\n",
       "      <th>17</th>\n",
       "      <td>5.3</td>\n",
       "      <td>83088</td>\n",
       "    </tr>\n",
       "    <tr>\n",
       "      <th>18</th>\n",
       "      <td>5.9</td>\n",
       "      <td>81363</td>\n",
       "    </tr>\n",
       "    <tr>\n",
       "      <th>19</th>\n",
       "      <td>6.0</td>\n",
       "      <td>93940</td>\n",
       "    </tr>\n",
       "    <tr>\n",
       "      <th>20</th>\n",
       "      <td>6.8</td>\n",
       "      <td>91738</td>\n",
       "    </tr>\n",
       "    <tr>\n",
       "      <th>21</th>\n",
       "      <td>7.1</td>\n",
       "      <td>98273</td>\n",
       "    </tr>\n",
       "    <tr>\n",
       "      <th>22</th>\n",
       "      <td>7.9</td>\n",
       "      <td>101302</td>\n",
       "    </tr>\n",
       "    <tr>\n",
       "      <th>23</th>\n",
       "      <td>8.2</td>\n",
       "      <td>113812</td>\n",
       "    </tr>\n",
       "    <tr>\n",
       "      <th>24</th>\n",
       "      <td>8.7</td>\n",
       "      <td>109431</td>\n",
       "    </tr>\n",
       "    <tr>\n",
       "      <th>25</th>\n",
       "      <td>9.0</td>\n",
       "      <td>105582</td>\n",
       "    </tr>\n",
       "    <tr>\n",
       "      <th>26</th>\n",
       "      <td>9.5</td>\n",
       "      <td>116969</td>\n",
       "    </tr>\n",
       "    <tr>\n",
       "      <th>27</th>\n",
       "      <td>9.6</td>\n",
       "      <td>112635</td>\n",
       "    </tr>\n",
       "    <tr>\n",
       "      <th>28</th>\n",
       "      <td>10.3</td>\n",
       "      <td>122391</td>\n",
       "    </tr>\n",
       "    <tr>\n",
       "      <th>29</th>\n",
       "      <td>10.5</td>\n",
       "      <td>121872</td>\n",
       "    </tr>\n",
       "    <tr>\n",
       "      <th>30</th>\n",
       "      <td>11.2</td>\n",
       "      <td>127345</td>\n",
       "    </tr>\n",
       "    <tr>\n",
       "      <th>31</th>\n",
       "      <td>11.5</td>\n",
       "      <td>126756</td>\n",
       "    </tr>\n",
       "    <tr>\n",
       "      <th>32</th>\n",
       "      <td>12.3</td>\n",
       "      <td>128765</td>\n",
       "    </tr>\n",
       "    <tr>\n",
       "      <th>33</th>\n",
       "      <td>12.9</td>\n",
       "      <td>135675</td>\n",
       "    </tr>\n",
       "    <tr>\n",
       "      <th>34</th>\n",
       "      <td>13.5</td>\n",
       "      <td>139465</td>\n",
       "    </tr>\n",
       "  </tbody>\n",
       "</table>\n",
       "</div>"
      ],
      "text/plain": [
       "    YearsExperience  Salary\n",
       "0               1.1   39343\n",
       "1               1.3   46205\n",
       "2               1.5   37731\n",
       "3               2.0   43525\n",
       "4               2.2   39891\n",
       "5               2.9   56642\n",
       "6               3.0   60150\n",
       "7               3.2   54445\n",
       "8               3.2   64445\n",
       "9               3.7   57189\n",
       "10              3.9   63218\n",
       "11              4.0   55794\n",
       "12              4.0   56957\n",
       "13              4.1   57081\n",
       "14              4.5   61111\n",
       "15              4.9   67938\n",
       "16              5.1   66029\n",
       "17              5.3   83088\n",
       "18              5.9   81363\n",
       "19              6.0   93940\n",
       "20              6.8   91738\n",
       "21              7.1   98273\n",
       "22              7.9  101302\n",
       "23              8.2  113812\n",
       "24              8.7  109431\n",
       "25              9.0  105582\n",
       "26              9.5  116969\n",
       "27              9.6  112635\n",
       "28             10.3  122391\n",
       "29             10.5  121872\n",
       "30             11.2  127345\n",
       "31             11.5  126756\n",
       "32             12.3  128765\n",
       "33             12.9  135675\n",
       "34             13.5  139465"
      ]
     },
     "execution_count": 3,
     "metadata": {},
     "output_type": "execute_result"
    }
   ],
   "source": [
    "ds"
   ]
  },
  {
   "cell_type": "markdown",
   "id": "8260f963",
   "metadata": {},
   "source": [
    "Extracting both the columns into different variables x and y"
   ]
  },
  {
   "cell_type": "raw",
   "id": "d5c8ed7e",
   "metadata": {},
   "source": [
    "The iloc() function in python is defined in the Pandas module that helps us to select a specific row or column from the data set"
   ]
  },
  {
   "cell_type": "code",
   "execution_count": 4,
   "id": "4f622789",
   "metadata": {},
   "outputs": [],
   "source": [
    "x=ds.iloc[:,:1].values\n",
    "#x (to display independent vaiable row(experience))"
   ]
  },
  {
   "cell_type": "code",
   "execution_count": 5,
   "id": "4abf3a04",
   "metadata": {},
   "outputs": [],
   "source": [
    "y=ds.iloc[:,1:].values\n",
    "#y(dependent varaible i.e salary)"
   ]
  },
  {
   "cell_type": "raw",
   "id": "ff8497c2",
   "metadata": {},
   "source": [
    " Now we can visualize our data using matplot (plot the values for x and y)\n",
    " why should we visualize our data??\n",
    " To select suitable model for our project"
   ]
  },
  {
   "cell_type": "code",
   "execution_count": 6,
   "id": "53ddf367",
   "metadata": {},
   "outputs": [
    {
     "data": {
      "text/plain": [
       "<matplotlib.collections.PathCollection at 0x1da27fd2ee0>"
      ]
     },
     "execution_count": 6,
     "metadata": {},
     "output_type": "execute_result"
    },
    {
     "data": {
      "image/png": "[encoded data removed]",
      "text/plain": [
       "<Figure size 432x288 with 1 Axes>"
      ]
     },
     "metadata": {
      "needs_background": "light"
     },
     "output_type": "display_data"
    }
   ],
   "source": [
    "fig=plt.figure()              #creates a new figure\n",
    "ax=fig.add_axes([0,0,1,1])    #adds axes to the figure\n",
    "ax.scatter(x,y,color='b')    #scatter y vs x with given colour"
   ]
  },
  {
   "cell_type": "raw",
   "id": "c4f559b8",
   "metadata": {},
   "source": [
    "Here we observe the pattern is somewhat linear or may be similar to polynomial"
   ]
  },
  {
   "cell_type": "markdown",
   "id": "ec328477",
   "metadata": {},
   "source": [
    "# Train and Test"
   ]
  },
  {
   "cell_type": "code",
   "execution_count": 7,
   "id": "5c4c1a70",
   "metadata": {},
   "outputs": [],
   "source": [
    "from sklearn.model_selection import train_test_split\n",
    "x_train,x_test,y_train,y_test=train_test_split(x,y,test_size=0.2,random_state=0)"
   ]
  },
  {
   "cell_type": "raw",
   "id": "0cb1b2a6",
   "metadata": {},
   "source": [
    ".train_test_split=Split arrays or matrices into random train and test subsets.\n",
    ".text_size=0.2 here 0.2 defines that 20% of dataset is for testing and remaining for training\n",
    "  we have to test our dataset to find accuracy of our model\n",
    "  \n",
    ".random size= can be any number(how random the random can be splitted==random selection)"
   ]
  },
  {
   "cell_type": "code",
   "execution_count": 8,
   "id": "801c3100",
   "metadata": {},
   "outputs": [],
   "source": [
    "from sklearn.linear_model import LinearRegression "
   ]
  },
  {
   "cell_type": "code",
   "execution_count": 9,
   "id": "eb3c5ad8",
   "metadata": {},
   "outputs": [],
   "source": [
    "linear_regressor=LinearRegression()"
   ]
  },
  {
   "cell_type": "markdown",
   "id": "7e0b116c",
   "metadata": {},
   "source": [
    "# linear regression training"
   ]
  },
  {
   "cell_type": "code",
   "execution_count": 10,
   "id": "892ccf5b",
   "metadata": {},
   "outputs": [
    {
     "data": {
      "text/plain": [
       "LinearRegression()"
      ]
     },
     "execution_count": 10,
     "metadata": {},
     "output_type": "execute_result"
    }
   ],
   "source": [
    "linear_regressor.fit(x_train,y_train)"
   ]
  },
  {
   "cell_type": "markdown",
   "id": "907faf21",
   "metadata": {},
   "source": [
    "# Prediction and testing"
   ]
  },
  {
   "cell_type": "code",
   "execution_count": 11,
   "id": "71783049",
   "metadata": {},
   "outputs": [
    {
     "data": {
      "text/plain": [
       "array([[120057.87672477],\n",
       "       [ 88127.64484315],\n",
       "       [ 73456.99776241],\n",
       "       [118331.91824468],\n",
       "       [ 97620.41648363],\n",
       "       [ 71731.03928232],\n",
       "       [ 63101.24688189]])"
      ]
     },
     "execution_count": 11,
     "metadata": {},
     "output_type": "execute_result"
    }
   ],
   "source": [
    "y_pred=linear_regressor.predict(x_test)\n",
    "y_pred"
   ]
  },
  {
   "cell_type": "code",
   "execution_count": 12,
   "id": "c9c5f2e8",
   "metadata": {},
   "outputs": [
    {
     "data": {
      "text/plain": [
       "array([[121872],\n",
       "       [ 91738],\n",
       "       [ 66029],\n",
       "       [122391],\n",
       "       [101302],\n",
       "       [ 67938],\n",
       "       [ 63218]], dtype=int64)"
      ]
     },
     "execution_count": 12,
     "metadata": {},
     "output_type": "execute_result"
    }
   ],
   "source": [
    "y_test"
   ]
  },
  {
   "cell_type": "raw",
   "id": "0548db24",
   "metadata": {},
   "source": [
    "Drawing the graph to see best fitting line "
   ]
  },
  {
   "cell_type": "code",
   "execution_count": 13,
   "id": "078e5d4b",
   "metadata": {},
   "outputs": [
    {
     "data": {
      "text/plain": [
       "[<matplotlib.lines.Line2D at 0x1da382349a0>]"
      ]
     },
     "execution_count": 13,
     "metadata": {},
     "output_type": "execute_result"
    },
    {
     "data": {
      "image/png": "[encoded data removed]",
      "text/plain": [
       "<Figure size 432x288 with 1 Axes>"
      ]
     },
     "metadata": {
      "needs_background": "light"
     },
     "output_type": "display_data"
    }
   ],
   "source": [
    "plt.scatter(x,y,color='b')\n",
    "plt.plot(x,linear_regressor.predict(x),color='red')"
   ]
  },
  {
   "cell_type": "raw",
   "id": "b34a6bbe",
   "metadata": {},
   "source": [
    "We may have some dissmilarities in linear regression model for few predictions lets check with polynomial model"
   ]
  },
  {
   "cell_type": "code",
   "execution_count": 14,
   "id": "8a928f44",
   "metadata": {},
   "outputs": [],
   "source": [
    "from sklearn.preprocessing import PolynomialFeatures"
   ]
  },
  {
   "cell_type": "code",
   "execution_count": 15,
   "id": "e1bf42af",
   "metadata": {},
   "outputs": [],
   "source": [
    "#coverting independent variable into polynomial data\n",
    "poly=PolynomialFeatures(degree=2)#two varaibles\n",
    "x_poly=poly.fit_transform(x)"
   ]
  },
  {
   "cell_type": "code",
   "execution_count": 16,
   "id": "c885d822",
   "metadata": {},
   "outputs": [
    {
     "data": {
      "text/plain": [
       "LinearRegression()"
      ]
     },
     "execution_count": 16,
     "metadata": {},
     "output_type": "execute_result"
    }
   ],
   "source": [
    "poly_regressor=LinearRegression()\n",
    "poly_regressor.fit(x_poly,y)"
   ]
  },
  {
   "cell_type": "code",
   "execution_count": 17,
   "id": "a1ae904c",
   "metadata": {},
   "outputs": [
    {
     "data": {
      "text/plain": [
       "[<matplotlib.lines.Line2D at 0x1da3829daf0>]"
      ]
     },
     "execution_count": 17,
     "metadata": {},
     "output_type": "execute_result"
    },
    {
     "data": {
      "image/png": "[encoded data removed]",
      "text/plain": [
       "<Figure size 432x288 with 1 Axes>"
      ]
     },
     "metadata": {
      "needs_background": "light"
     },
     "output_type": "display_data"
    }
   ],
   "source": [
    "plt.scatter(x,y,color='b')\n",
    "plt.plot(x,poly_regressor.predict(poly.fit_transform(x)),color='red')"
   ]
  },
  {
   "cell_type": "code",
   "execution_count": 18,
   "id": "c471ea1c",
   "metadata": {},
   "outputs": [
    {
     "data": {
      "text/plain": [
       "array([[ 34222.96719981],\n",
       "       [ 36421.1693715 ],\n",
       "       [ 38603.85950911],\n",
       "       [ 43992.71970409],\n",
       "       [ 46121.11772245],\n",
       "       [ 53448.35351841],\n",
       "       [ 54479.58945519],\n",
       "       [ 56530.42730319],\n",
       "       [ 56530.42730319],\n",
       "       [ 61589.65677413],\n",
       "       [ 63586.20250289],\n",
       "       [ 64578.65835449],\n",
       "       [ 64578.65835449],\n",
       "       [ 65567.23619757],\n",
       "       [ 69482.76748471],\n",
       "       [ 73336.25063557],\n",
       "       [ 75239.72415989],\n",
       "       [ 77127.68565014],\n",
       "       [ 82698.49791645],\n",
       "       [ 83613.39359769],\n",
       "       [ 90792.95074096],\n",
       "       [ 93421.29752913],\n",
       "       [100259.58992282],\n",
       "       [102759.9624299 ],\n",
       "       [106849.68977135],\n",
       "       [109256.990074  ],\n",
       "       [113191.59707473],\n",
       "       [113966.88444932],\n",
       "       [119285.31183296],\n",
       "       [120769.96043733],\n",
       "       [125844.07328434],\n",
       "       [127960.52294814],\n",
       "       [133433.75634349],\n",
       "       [137375.80503225],\n",
       "       [141178.24541436]])"
      ]
     },
     "execution_count": 18,
     "metadata": {},
     "output_type": "execute_result"
    }
   ],
   "source": [
    "y_pred1=poly_regressor.predict(poly.fit_transform(x))\n",
    "y_pred1 #predicted values"
   ]
  },
  {
   "cell_type": "code",
   "execution_count": 19,
   "id": "754c5b97",
   "metadata": {},
   "outputs": [
    {
     "data": {
      "text/plain": [
       "array([[ 39343],\n",
       "       [ 46205],\n",
       "       [ 37731],\n",
       "       [ 43525],\n",
       "       [ 39891],\n",
       "       [ 56642],\n",
       "       [ 60150],\n",
       "       [ 54445],\n",
       "       [ 64445],\n",
       "       [ 57189],\n",
       "       [ 63218],\n",
       "       [ 55794],\n",
       "       [ 56957],\n",
       "       [ 57081],\n",
       "       [ 61111],\n",
       "       [ 67938],\n",
       "       [ 66029],\n",
       "       [ 83088],\n",
       "       [ 81363],\n",
       "       [ 93940],\n",
       "       [ 91738],\n",
       "       [ 98273],\n",
       "       [101302],\n",
       "       [113812],\n",
       "       [109431],\n",
       "       [105582],\n",
       "       [116969],\n",
       "       [112635],\n",
       "       [122391],\n",
       "       [121872],\n",
       "       [127345],\n",
       "       [126756],\n",
       "       [128765],\n",
       "       [135675],\n",
       "       [139465]], dtype=int64)"
      ]
     },
     "execution_count": 19,
     "metadata": {},
     "output_type": "execute_result"
    }
   ],
   "source": [
    "y #actual values"
   ]
  },
  {
   "cell_type": "code",
   "execution_count": 20,
   "id": "64f498d3",
   "metadata": {
    "scrolled": true
   },
   "outputs": [
    {
     "name": "stdout",
     "output_type": "stream",
     "text": [
      "Linear Regression Evaluation:\n",
      "Mean Absolute Error: 3500.4191\n",
      "Mean Squared Error: 16561691.2210\n",
      "R² Score: 0.9708\n",
      "\n"
     ]
    }
   ],
   "source": [
    "from sklearn.metrics import mean_absolute_error, mean_squared_error, r2_score\n",
    "\n",
    "# Linear regression model evaluation\n",
    "mae_linear = mean_absolute_error(y_test, y_pred)  # Corrected: use y_pred from linear regression\n",
    "mse_linear = mean_squared_error(y_test, y_pred)\n",
    "r2_linear = r2_score(y_test, y_pred)\n",
    "\n",
    "# Print evaluation results\n",
    "print(\"Linear Regression Evaluation:\")\n",
    "print(f\"Mean Absolute Error: {mae_linear:.4f}\")\n",
    "print(f\"Mean Squared Error: {mse_linear:.4f}\")\n",
    "print(f\"R² Score: {r2_linear:.4f}\\n\")\n",
    "\n"
   ]
  },
  {
   "cell_type": "code",
   "execution_count": 21,
   "id": "46993056",
   "metadata": {},
   "outputs": [
    {
     "name": "stdout",
     "output_type": "stream",
     "text": [
      "Polynomial Regression Evaluation:\n",
      "Mean Absolute Error: 3024.6235\n",
      "Mean Squared Error: 18136235.6595\n",
      "R² Score: 0.9680\n"
     ]
    }
   ],
   "source": [
    "y_pred_poly = poly_regressor.predict(poly.transform(x_test))\n",
    "mae_poly = mean_absolute_error(y_test, y_pred_poly)\n",
    "mse_poly = mean_squared_error(y_test, y_pred_poly)\n",
    "r2_poly = r2_score(y_test, y_pred_poly)\n",
    "\n",
    "# Print evaluation results for Polynomial Regression\n",
    "print(\"Polynomial Regression Evaluation:\")\n",
    "print(f\"Mean Absolute Error: {mae_poly:.4f}\")\n",
    "print(f\"Mean Squared Error: {mse_poly:.4f}\")\n",
    "print(f\"R² Score: {r2_poly:.4f}\")"
   ]
  },
  {
   "cell_type": "raw",
   "id": "6a37c8eb",
   "metadata": {},
   "source": [
    "👉 Linear Regression is better if the data follows a straight-line trend.\n",
    "👉 Polynomial Regression is better if the relationship is curved but should be used cautiously to avoid overfitting.\n",
    "\n",
    "Plot your data (scatter plot) – If it looks linear, use Linear Regression. If it's curved, try Polynomial Regression.\n",
    "\n",
    "Evaluate R² Score – Compare both models. If Polynomial Regression significantly improves accuracy, then it’s the better choice.\n",
    "\n",
    "Check for Overfitting – If Polynomial Regression performs well on training data but poorly on test data, it may be overfitting.\n"
   ]
  },
  {
   "cell_type": "markdown",
   "id": "ee045f48",
   "metadata": {},
   "source": [
    "# --------------------------------------------THE END------------------------------------------------------"
   ]
  },
  {
   "cell_type": "code",
   "execution_count": null,
   "id": "691fd478",
   "metadata": {},
   "outputs": [],
   "source": []
  }
 ],
 "metadata": {
  "kernelspec": {
   "display_name": "Python 3",
   "language": "python",
   "name": "python3"
  },
  "language_info": {
   "codemirror_mode": {
    "name": "ipython",
    "version": 3
   },
   "file_extension": ".py",
   "mimetype": "text/x-python",
   "name": "python",
   "nbconvert_exporter": "python",
   "pygments_lexer": "ipython3",
   "version": "3.8.8"
  }
 },
 "nbformat": 4,
 "nbformat_minor": 5
}
